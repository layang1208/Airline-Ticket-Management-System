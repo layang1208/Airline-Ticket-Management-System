{
 "cells": [
  {
   "cell_type": "code",
   "execution_count": 3,
   "metadata": {},
   "outputs": [],
   "source": [
    "import csv\n",
    "import pandas as pd\n",
    "import random\n",
    "import datetime\n",
    "# need to generate for \n",
    "# Booking (FK Client)\n",
    "# FlightSchedule (FK Route, Airline) \n",
    "# Flight (FK FlightSchedule) \n",
    "# Seat (FK Flight)\n",
    "# Ticket (FK Booking, Passenger, Seat)"
   ]
  },
  {
   "cell_type": "code",
   "execution_count": 39,
   "metadata": {},
   "outputs": [],
   "source": [
    "# Booking has :\n",
    "# confirmationNo (PK)\n",
    "# bookingStatus, \n",
    "# numSeatsBooked,\n",
    "# numPointsEarned, \n",
    "# transactionDate, \n",
    "# transactionAmount,\n",
    "# username (FK Client)"
   ]
  },
  {
   "cell_type": "code",
   "execution_count": 58,
   "metadata": {},
   "outputs": [],
   "source": [
    "df = pd.read_csv('Client.csv', header=None)\n",
    "\n",
    "# extract username col (100 rows)\n",
    "df = df[0]\n",
    "\n",
    "# possible booking status\n",
    "status = ['Booked', 'Completed', 'Cancelled']\n",
    "\n",
    "# range for random date\n",
    "start_date = datetime.date(2020, 1, 1)\n",
    "end_date = datetime.date(2020, 11, 24)\n",
    "time_between_dates = end_date - start_date\n",
    "days_between_dates = time_between_dates.days\n",
    "\n",
    "# create an empty df\n",
    "booking_df = pd.DataFrame(columns=['confirmationNo','bookingStatus','numSeatsBooked','numPointsEarned','transactionDate','transactionAmount','username'])\n",
    "for i in range(10000):\n",
    "    status_index = random.randint(0,2)\n",
    "    user_index = random.randint(0,99)\n",
    "    num_seats = random.randint(1,5)\n",
    "    random_number_of_days = random.randrange(days_between_dates)\n",
    "    random_date = start_date + datetime.timedelta(days=random_number_of_days)\n",
    "    amount = num_seats * random.randint(100,1000)\n",
    "    points = int(amount * 0.1)\n",
    "    booking_df.loc[i]=[i+1,status[status_index],num_seats, points, random_date, amount, df[user_index]]"
   ]
  },
  {
   "cell_type": "code",
   "execution_count": 60,
   "metadata": {},
   "outputs": [],
   "source": [
    "booking_df.to_csv('bookings.csv', index = False)"
   ]
  },
  {
   "cell_type": "code",
   "execution_count": 104,
   "metadata": {},
   "outputs": [],
   "source": [
    "# FlightSchedule has:\n",
    "# flightNo (PK)\n",
    "# departureAirportIATA (FK Route)\n",
    "# arrivalAirportIATA (FK Route)\n",
    "# airlineIATA (FK Airline)\n",
    "# departureWeekday\n",
    "# departureTime\n",
    "# arrivalWeekday\n",
    "# arrivalTime\n",
    "# seatPrice "
   ]
  },
  {
   "cell_type": "code",
   "execution_count": 161,
   "metadata": {},
   "outputs": [],
   "source": [
    "route = pd.read_csv('routes.csv', header=None)\n",
    "route = route.drop(columns=2) # drop distance\n",
    "route = route.drop_duplicates(subset = [0,1])\n",
    "\n",
    "# for the purpose of this project, I will limit to routes that departure from Pearson Airport only (YYZ)\n",
    "departure = 'YYZ'\n",
    "arrival = pd.DataFrame(route.loc[route[0] == departure][1],index=None)\n",
    "arrival.reset_index(inplace = True) \n",
    "arrival = arrival[1] # 147 rows\n",
    "\n",
    "airline = pd.read_csv('airlines.csv', header=None)\n",
    "airline = airline.drop(columns=1) \n",
    "airline = airline[0] #943 rows\n",
    "\n",
    "weekdays = [\"Monday\",\"Tuesday\",\"Wednesday\",\"Thursday\",\"Friday\",\"Saturday\",\"Sunday\"]\n",
    "\n",
    "flightSchedule_df = pd.DataFrame(columns=['flightNo','departureAirportIATA','arrivalAirportIATA','airlineIATA',\n",
    "                                          'departureWeekday','departureTime','arrivalWeekday', 'arrivalTime', 'seatPrice'])\n",
    "for i in range(1000):\n",
    "    weekday_index = random.randint(0,6)\n",
    "    airline_index = random.randint(0,942)\n",
    "    airport_index = random.randint(0,146)\n",
    "    depart_hour = random.randint(0,12)\n",
    "    depart_minute = random.randint(0,59)\n",
    "    arrival_hour = random.randint(13,23)\n",
    "    arrival_minute = random.randint(0,59)\n",
    "    seat_price = random.randint(100,1000)\n",
    "    flightSchedule_df.loc[i] = [str(airline[airline_index])+str(i), 'YYZ', arrival[airport_index], airline[airline_index],\n",
    "                               weekdays[weekday_index], str(depart_hour)+':'+str(depart_minute), weekdays[weekday_index],\n",
    "                               str(arrival_hour)+':'+str(arrival_minute), seat_price]"
   ]
  },
  {
   "cell_type": "code",
   "execution_count": 163,
   "metadata": {},
   "outputs": [],
   "source": [
    "flightSchedule_df.to_csv('flightSchedules.csv', index = False)"
   ]
  },
  {
   "cell_type": "code",
   "execution_count": null,
   "metadata": {},
   "outputs": [],
   "source": [
    "# Flight has:\n",
    "# flightNo (PK, FK FlightSchedule)\n",
    "# departureDate (PK)\n",
    "# arrivalDate\n",
    "# totalNumSeats\n",
    "# numSeatsSold"
   ]
  },
  {
   "cell_type": "code",
   "execution_count": 213,
   "metadata": {},
   "outputs": [],
   "source": [
    "schedule = pd.read_csv('flightSchedules.csv')\n",
    "flightNo = schedule['flightNo'] \n",
    "departureWeekday = schedule['departureWeekday'] # 1000 rows\n",
    "\n",
    "# a dictonary used to store date and weekday pair\n",
    "all_dates = {}\n",
    "# for every day in our range, append the date and its weekday into the dictionary\n",
    "for i in range(days_between_dates+1):\n",
    "    date = start_date + datetime.timedelta(days = i)\n",
    "    weekday = weekdays[date.weekday()]\n",
    "    all_dates[date.strftime('%Y-%m-%d')] = weekday\n",
    "\n",
    "flight_df = pd.DataFrame(columns = ['flightNo', 'departureDate', 'arrivalDate', 'totalNumSeats', 'numSeatsSold'])\n",
    "\n",
    "index = 0\n",
    "for i in range(1000):\n",
    "    # num seats for this flightNo should be fixed\n",
    "    num_seats = random.randint(200,1000)\n",
    "    for date, weekday in all_dates.items():\n",
    "        # insert a new flight for this flight schedule on the date that fits the schedule\n",
    "        if departureWeekday[i] == weekday:\n",
    "            # generate a random sold number that is less than or equal to total seats\n",
    "            seats_sold = num_seats - random.randint(0,num_seats)\n",
    "            flight_df.loc[index] = [flightNo[i], date, date, num_seats, seats_sold]\n",
    "            index += 1\n"
   ]
  },
  {
   "cell_type": "code",
   "execution_count": 215,
   "metadata": {},
   "outputs": [],
   "source": [
    "flight_df.to_csv('flights.csv', index = False)"
   ]
  },
  {
   "cell_type": "code",
   "execution_count": 4,
   "metadata": {},
   "outputs": [],
   "source": [
    "# Seat has:\n",
    "# seatNo (PK)\n",
    "# seatStatus\n",
    "# flightNo (PK, FK Flight)\n",
    "# departureDate (PK, FK Flight)"
   ]
  },
  {
   "cell_type": "code",
   "execution_count": 7,
   "metadata": {},
   "outputs": [],
   "source": [
    "flight = pd.read_csv('flights.csv')\n",
    "flightNo = flight['flightNo']\n",
    "departureDate = flight['departureDate'] #47000 rows\n",
    "# because we have many flights, I will only draw 1000 random samples from those and generate 18 seats each\n",
    "samples = random.sample(range(0,46999), 46999)\n",
    "index = 0\n",
    "seat_df = pd.DataFrame(columns=['seatNo', 'seatStatus', 'flightNo', 'departureDate'])\n",
    "status = ['Available', 'Sold']\n",
    "# for each flight that was drawn\n",
    "for i in samples:\n",
    "    for j in range(1,2):\n",
    "        for x in ['A', 'B']:\n",
    "            seat_df.loc[index] = [str(j)+x, status[random.randint(0,1)], flightNo[i], departureDate[i]]\n",
    "            index += 1;"
   ]
  },
  {
   "cell_type": "code",
   "execution_count": 8,
   "metadata": {},
   "outputs": [],
   "source": [
    "seat_df.to_csv('seats_new.csv',index=False)"
   ]
  },
  {
   "cell_type": "code",
   "execution_count": null,
   "metadata": {},
   "outputs": [],
   "source": [
    "# Ticket has:\n",
    "# ticketNo (PK)\n",
    "# confirmationNo (FK Booking)\n",
    "# travelDocument (FK Passenger)\n",
    "# seatNo (FK Seat)\n",
    "# flightNo (FK Seat)\n",
    "# departureDate (FK Seat)"
   ]
  },
  {
   "cell_type": "code",
   "execution_count": 270,
   "metadata": {},
   "outputs": [],
   "source": [
    "ticket_df = pd.DataFrame(columns=['ticketNo','confirmationNo','travelDocument','seatNo','flightNo','departureDate'])\n",
    "confirmationNo = pd.read_csv('bookings.csv')['confirmationNo'] # 10000 rows\n",
    "travelDocument = pd.read_csv('Passenger.csv')['travelDocument'] # 100 rows\n",
    "seatNo = seat_df['seatNo']\n",
    "flightNo = seat_df['flightNo']\n",
    "departureDate = seat_df['departureDate'] #18000 rows\n",
    "index = 0\n",
    "\n",
    "for i in range(1000):\n",
    "    # for each flight, make sure 18 different people are on flight\n",
    "    travelDoc_index = random.sample(range(100), 18)\n",
    "    for j in range(9):\n",
    "        ticket_df.loc[index] = [index+1, confirmationNo[i*9+j], travelDocument[travelDoc_index[j]],\n",
    "                               seatNo[index], flightNo[index], departureDate[index]]\n",
    "        index += 1\n",
    "        ticket_df.loc[index] = [index+1, confirmationNo[i*9+j], travelDocument[travelDoc_index[j+9]],\n",
    "                               seatNo[index], flightNo[index], departureDate[index]]\n",
    "        index += 1"
   ]
  },
  {
   "cell_type": "code",
   "execution_count": 272,
   "metadata": {},
   "outputs": [],
   "source": [
    "ticket_df.to_csv('tickets.csv', index=False)"
   ]
  },
  {
   "cell_type": "code",
   "execution_count": null,
   "metadata": {},
   "outputs": [],
   "source": []
  }
 ],
 "metadata": {
  "kernelspec": {
   "display_name": "Python 3",
   "language": "python",
   "name": "python3"
  },
  "language_info": {
   "codemirror_mode": {
    "name": "ipython",
    "version": 3
   },
   "file_extension": ".py",
   "mimetype": "text/x-python",
   "name": "python",
   "nbconvert_exporter": "python",
   "pygments_lexer": "ipython3",
   "version": "3.8.3"
  }
 },
 "nbformat": 4,
 "nbformat_minor": 4
}
